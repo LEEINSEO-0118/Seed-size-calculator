{
  "nbformat": 4,
  "nbformat_minor": 0,
  "metadata": {
    "colab": {
      "provenance": [],
      "toc_visible": true,
      "authorship_tag": "ABX9TyN8er05EJ7GdE/LdCUQkblo",
      "include_colab_link": true
    },
    "kernelspec": {
      "name": "python3",
      "display_name": "Python 3"
    },
    "language_info": {
      "name": "python"
    }
  },
  "cells": [
    {
      "cell_type": "markdown",
      "metadata": {
        "id": "view-in-github",
        "colab_type": "text"
      },
      "source": [
        "<a href=\"https://colab.research.google.com/github/LEEINSEO-0118/Seed-size-calculator/blob/main/CalculateSize.ipynb\" target=\"_parent\"><img src=\"https://colab.research.google.com/assets/colab-badge.svg\" alt=\"Open In Colab\"/></a>"
      ]
    },
    {
      "cell_type": "markdown",
      "source": [
        "# Import\n"
      ],
      "metadata": {
        "id": "iou0btf6AZve"
      }
    },
    {
      "cell_type": "markdown",
      "source": [
        "# Calculate Functions"
      ],
      "metadata": {
        "id": "hQP3eh3lZCxm"
      }
    },
    {
      "cell_type": "code",
      "source": [
        "from google.colab import drive\n",
        "drive.mount('/content/drive')"
      ],
      "metadata": {
        "colab": {
          "base_uri": "https://localhost:8080/"
        },
        "id": "PAMphZuW5gtA",
        "outputId": "05283201-b427-472c-979f-9040e78ef2c5"
      },
      "execution_count": 1,
      "outputs": [
        {
          "output_type": "stream",
          "name": "stdout",
          "text": [
            "Drive already mounted at /content/drive; to attempt to forcibly remount, call drive.mount(\"/content/drive\", force_remount=True).\n"
          ]
        }
      ]
    },
    {
      "cell_type": "code",
      "execution_count": 2,
      "metadata": {
        "id": "Jd6_XbyCd0Ty"
      },
      "outputs": [],
      "source": [
        "import cv2\n",
        "import numpy as np\n",
        "import matplotlib.pyplot as plt\n",
        "import pandas as pd\n",
        "import os\n",
        "import shutil\n",
        "import seaborn as sns\n",
        "from tqdm import tqdm\n",
        "import re"
      ]
    },
    {
      "cell_type": "markdown",
      "source": [
        "## Standard Template\n",
        "사이즈 비교의 대상이 되는 템플릿\n"
      ],
      "metadata": {
        "id": "z0tgPB8yAcxm"
      }
    },
    {
      "cell_type": "code",
      "source": [
        "# 실제로 사용한 30mm x 30mm 사이즈의 종이 템플릿을 30배 스케일로 늘려 템플릿 생성\n",
        "SCALE = 30\n",
        "PAPER_W = 30 * SCALE\n",
        "PAPER_H = 30 * SCALE\n",
        "\n",
        "paper_coords = np.float32([[0,0],                # Top left\n",
        "                           [PAPER_W,0],          # Top right\n",
        "                           [0,PAPER_H],          # Bottom left\n",
        "                           [PAPER_W,PAPER_H]])   # Bottom right"
      ],
      "metadata": {
        "id": "N7MAdj6Bd4xD"
      },
      "execution_count": 3,
      "outputs": []
    },
    {
      "cell_type": "markdown",
      "source": [
        "## Load Image and Show Image"
      ],
      "metadata": {
        "id": "KEUDmVj6A374"
      }
    },
    {
      "cell_type": "code",
      "source": [
        "def load_image(path, scale = 0.7):\n",
        "    img = cv2.imread(path)\n",
        "    img_resized = cv2.resize(img, (0,0), None, scale, scale)\n",
        "    return img_resized\n",
        "\n",
        "def show_image(img):\n",
        "    img = cv2.cvtColor(img, cv2.COLOR_BGR2RGB)\n",
        "    plt.figure()\n",
        "    plt.xticks([])\n",
        "    plt.yticks([]) # 얘네 넣으면 축에 index가 사라지네?\n",
        "    plt.imshow(img)\n",
        "    plt.show()"
      ],
      "metadata": {
        "id": "XE5yH1oIA9vj"
      },
      "execution_count": 4,
      "outputs": []
    },
    {
      "cell_type": "markdown",
      "source": [
        "## Image Preprocess\n",
        "이미지 -> 그레이 스케일 -> Blur 처리 -> edge 추출 -> edge굵게 및 선명하게"
      ],
      "metadata": {
        "id": "NNIYz7tYBBFn"
      }
    },
    {
      "cell_type": "code",
      "source": [
        "def preprocess_image(img, thresh_1=57, thresh_2=232):\n",
        "    img_gray  = cv2.cvtColor(img, cv2.COLOR_BGR2GRAY)      # 그레이 스케일 변환\n",
        "    img_blur  = cv2.GaussianBlur(img_gray, (5,5), 1)       # 필터처리\n",
        "    img_canny = cv2.Canny(img_blur, thresh_1, thresh_2)    # edge detector\n",
        "\n",
        "    kernel = np.ones((3,3))    #4\n",
        "    img_dilated = cv2.dilate(img_canny, kernel, iterations=1)    # edge 라인을 굵게\n",
        "    img_closed = cv2.morphologyEx(img_dilated, cv2.MORPH_CLOSE,\n",
        "                                  kernel, iterations=4)          # edge 내부 small holes 제거, edge를 명확하게\n",
        "\n",
        "    img_preprocessed = img_closed.copy()\n",
        "\n",
        "    img_each_step = {'img_dilated': img_dilated,\n",
        "                     'img_canny'  : img_canny,\n",
        "                     'img_blur'   : img_blur,\n",
        "                     'img_gray'   : img_gray}\n",
        "\n",
        "    return img_preprocessed, img_each_step"
      ],
      "metadata": {
        "id": "tHxzLAFkBGRF"
      },
      "execution_count": 5,
      "outputs": []
    },
    {
      "cell_type": "markdown",
      "source": [
        "## Find Contours\n",
        "Contour를 통해 모서리 추출"
      ],
      "metadata": {
        "id": "EJTe2mpwVsv0"
      }
    },
    {
      "cell_type": "code",
      "source": [
        "def find_contours(img_preprocessed, img_original, epsilon_param=0.04):\n",
        "    contours, hierarchy = cv2.findContours(image=img_preprocessed,\n",
        "                                           mode=cv2.RETR_EXTERNAL, # for outermost contours\n",
        "                                           method=cv2.CHAIN_APPROX_NONE)  # find contour\n",
        "\n",
        "    img_contour = img_original.copy() # copy origin image\n",
        "    cv2.drawContours(img_contour, contours, -1, (203,192,255), 6)  # draw contour on copied origin image\n",
        "\n",
        "    polygons = []\n",
        "    for contour in contours:\n",
        "        epsilon = epsilon_param * cv2.arcLength(curve=contour,\n",
        "                                                closed=True)  # epsilon 값이 작으면 많은 코너를 탐지한다.\n",
        "                                                              # 사이즈 기준 객체의 정확한 코너를 찾기 위해서 epsilon 값을 설정하는 것에 주의해야 함\n",
        "        polygon = cv2.approxPolyDP(curve=contour,\n",
        "                                   epsilon=epsilon, closed=True)  # contour를 통해 코너(Curves) 추정\n",
        "        # print(polygon.shape)\n",
        "        polygon = polygon.reshape(4, 2)  # original output of cv2.approxPolyDP() is in the format (number of corners, 1, 2), where the middle axis is irrelevant in our case. Hence, we can safely discard it.\n",
        "        # print(polygon.shape)\n",
        "        # print(polygon)\n",
        "        polygons.append(polygon)\n",
        "        for point in polygon:\n",
        "            img_contour = cv2.circle(img=img_contour, center=point,\n",
        "                                     radius=8, color=(0,240,0),\n",
        "                                     thickness=-1)\n",
        "        break\n",
        "\n",
        "    return polygons, img_contour"
      ],
      "metadata": {
        "id": "gCQLi4lAVqJo"
      },
      "execution_count": 6,
      "outputs": []
    },
    {
      "cell_type": "markdown",
      "source": [
        "모서리 좌표 순서 정렬"
      ],
      "metadata": {
        "id": "5VgYhYIMV_M7"
      }
    },
    {
      "cell_type": "code",
      "source": [
        "def reorder_coords(polygon):\n",
        "    rect_coords = np.zeros((4, 2)) # 각 모서리 구해서 넣기\n",
        "\n",
        "    # 왼쪽 상단이 0, 0\n",
        "    # 좌표 합 가장 작은 것 -> 좌측 상단\n",
        "    # 좌표 합 가장 큰 것 -> 우측 하단\n",
        "    add = polygon.sum(axis=1) # 컬럼을 기준으로 합치기\n",
        "    rect_coords[0] = polygon[np.argmin(add)]    # Top left # 최소값의 index 반환\n",
        "    rect_coords[3] = polygon[np.argmax(add)]    # Bottom right\n",
        "\n",
        "    # 차 y - x\n",
        "    # 좌표 차 가장 작은 것 -> 우측 상한\n",
        "    # 좌표 차 가장 큰 것 -> 좌측 하단\n",
        "    subtract = np.diff(polygon, axis=1)\n",
        "    rect_coords[1] = polygon[np.argmin(subtract)]    # Top right\n",
        "    rect_coords[2] = polygon[np.argmax(subtract)]    # Bottom left\n",
        "\n",
        "    return rect_coords"
      ],
      "metadata": {
        "id": "xYhBQJ1eV8bu"
      },
      "execution_count": 7,
      "outputs": []
    },
    {
      "cell_type": "markdown",
      "source": [
        "## Perspective Transform\n",
        "\n",
        "호모그래피 추출 및 원근 변환"
      ],
      "metadata": {
        "id": "0Kc2tUwjV5Bt"
      }
    },
    {
      "cell_type": "code",
      "source": [
        "def warp_image(rect_coords, paper_coords, img_original, pad=25):\n",
        "\n",
        "    # 실제 이미지에서 template으로 변환하는 homography 생성\n",
        "    matrix, _ = cv2.findHomography(rect_coords, paper_coords)\n",
        "\n",
        "    # trasform\n",
        "    img_warped = cv2.warpPerspective(img_original, matrix,\n",
        "                                        (PAPER_W, PAPER_H))\n",
        "\n",
        "    # 이미지가 원하지 않는 영역을 가지기에 pad 만큼 그것을 제거\n",
        "    # 음.. 꼭 해야하나..?\n",
        "    # -> 이거 안하니까 계산기 corner가 안 찾아짐... 미친.. 왜?\n",
        "    warped_h = img_warped.shape[0]\n",
        "    warped_w = img_warped.shape[1]\n",
        "    img_warped = img_warped[pad:warped_h-pad, pad:warped_w-pad]\n",
        "\n",
        "    return img_warped"
      ],
      "metadata": {
        "id": "dG2lbIyfWQ-U"
      },
      "execution_count": 8,
      "outputs": []
    },
    {
      "cell_type": "markdown",
      "source": [
        "## Find Ellipse contours\n",
        "\n",
        "종실 형태를 기준으로 타원을 형성 -> 타원을 기준으로 Rotated된 직사각형 생성 -> 종실의 크기 측정"
      ],
      "metadata": {
        "id": "VoAsjk54ZQgY"
      }
    },
    {
      "cell_type": "code",
      "source": [
        "def find_ellipse_contours(img_preprocessed, img_original):\n",
        "\n",
        "    thresh_1, thresh_2 = 57, 232\n",
        "    canny_output = cv2.Canny(img_preprocessed, thresh_1, thresh_2)\n",
        "    contours, hierarchy = cv2.findContours(image=img_preprocessed,\n",
        "                                           mode=cv2.RETR_EXTERNAL, # for outermost contours\n",
        "                                           method=cv2.CHAIN_APPROX_NONE)  # find contour\n",
        "\n",
        "    # Find the rotated rectangles and ellipses for each contour\n",
        "    minRect = [None]*len(contours)\n",
        "    for i, c in enumerate(contours):\n",
        "        minRect[i] = cv2.minAreaRect(c)\n",
        "\n",
        "    img_contour = img_original.copy()\n",
        "\n",
        "    polygons = cv2.boxPoints(minRect[i])\n",
        "    polygons = np.intp(polygons) #np.intp: Integer used for indexing (same as C ssize_t; normally either int32 or int64)\n",
        "    cv2.drawContours(img_contour, [polygons], -1, (255,0,0), 3)\n",
        "\n",
        "    for point in polygons:\n",
        "        img_contour = cv2.circle(img=img_contour, center=point, radius=8, color=(0,240,0), thickness=-1)\n",
        "\n",
        "    return img_contour, polygons"
      ],
      "metadata": {
        "id": "2deDVk6WZTLH"
      },
      "execution_count": 9,
      "outputs": []
    },
    {
      "cell_type": "markdown",
      "source": [
        "## Calculate size"
      ],
      "metadata": {
        "id": "jzs8W5KYZieG"
      }
    },
    {
      "cell_type": "code",
      "source": [
        "def calculate_sizes(polygons):\n",
        "    sizes = []\n",
        "    lens = len(polygons)\n",
        "    for i in range(lens):\n",
        "        for j in range(i+1, lens):\n",
        "            dist = cv2.norm(polygons[i], polygons[j], cv2.NORM_L2)\n",
        "            sizes.append([dist, [i, j]]) # 길이와 두 점의 index 저장\n",
        "\n",
        "    sorted_sizes = sorted(sizes, key=lambda x: x[0])\n",
        "\n",
        "    result = [sorted_sizes[0], sorted_sizes[3]]\n",
        "    return result"
      ],
      "metadata": {
        "id": "jtpI4A-5ZkUR"
      },
      "execution_count": 10,
      "outputs": []
    },
    {
      "cell_type": "code",
      "source": [
        "def convert_to_mm(sizes_pixel, img_warped):\n",
        "    warped_h = img_warped.shape[0]\n",
        "    warped_w = img_warped.shape[1]\n",
        "\n",
        "    scale_h = PAPER_H / warped_h    # 높이 비율\n",
        "    scale_w = PAPER_W / warped_w    # 너비 비율\n",
        "\n",
        "\n",
        "    size_pixel_h, size_pixel_w = sizes_pixel[0][0], sizes_pixel[1][0]\n",
        "    size_mm_h = size_pixel_h * scale_h / SCALE\n",
        "    size_mm_w = size_pixel_w * scale_w / SCALE\n",
        "\n",
        "    sizes_mm = [[size_mm_h, sizes_pixel[0][1]], [size_mm_w, sizes_pixel[1][1]]]\n",
        "\n",
        "    return sizes_mm"
      ],
      "metadata": {
        "id": "bFAkZ-7mZlzg"
      },
      "execution_count": 11,
      "outputs": []
    },
    {
      "cell_type": "markdown",
      "source": [
        "## Print size"
      ],
      "metadata": {
        "id": "lYUs-hDMZq4u"
      }
    },
    {
      "cell_type": "code",
      "source": [
        "def write_size(polygons, sizes, img_warped):\n",
        "\n",
        "    img_result = img_warped.copy()\n",
        "    for size, idx in (sizes):\n",
        "        cv2.line(img_result, polygons[idx[0]], polygons[idx[1]], (0,0,255), 4)\n",
        "        cv2.putText(img_result, f'{np.float32(size):.2f}mm',\n",
        "                    (polygons[idx[0]][0]-50, polygons[idx[0]][1]+100),\n",
        "                    cv2.FONT_HERSHEY_DUPLEX, 0.9, (0,0,255), 1)\n",
        "\n",
        "    return img_result"
      ],
      "metadata": {
        "id": "WSj1Hsf6ZsQn"
      },
      "execution_count": 12,
      "outputs": []
    },
    {
      "cell_type": "markdown",
      "source": [
        "## Total Function"
      ],
      "metadata": {
        "id": "ZNp1sno4ZubZ"
      }
    },
    {
      "cell_type": "code",
      "source": [
        "def measure_size(path, img_original_scale=0.7,\n",
        "                 PAPER_W=30, PAPER_H=30, SCALE=30,\n",
        "                 paper_eps_param=0.04,canny_thresh_1=57, canny_thresh_2=232):\n",
        "\n",
        "    PAPER_W = PAPER_W * SCALE\n",
        "    PAPER_H = PAPER_H * SCALE\n",
        "\n",
        "    # Loading and preprocessing original image.\n",
        "    img_original = load_image(path=path, scale=img_original_scale)\n",
        "    img_preprocessed, img_each_step = preprocess_image(img_original,\n",
        "                                                       thresh_1=canny_thresh_1,\n",
        "                                                       thresh_2=canny_thresh_2)\n",
        "\n",
        "    # Finding paper contours and corners.\n",
        "    polygons, img_contours = find_contours(img_preprocessed,\n",
        "                                           img_original,\n",
        "                                           epsilon_param=paper_eps_param)\n",
        "\n",
        "    # show_image(img_contours)\n",
        "\n",
        "    # Reordering paper corners.\n",
        "    rect_coords = np.float32(reorder_coords(polygons[0]))\n",
        "\n",
        "    # Warping image according to paper contours.\n",
        "    paper_coords = np.float32([[0,0],\n",
        "                               [PAPER_W,0],\n",
        "                               [0,PAPER_H],\n",
        "                               [PAPER_W,PAPER_H]])\n",
        "    img_warped = warp_image(rect_coords, paper_coords, img_original)\n",
        "\n",
        "    # Preprocessing the warped image.\n",
        "    img_warped_preprocessed, _ = preprocess_image(img_warped)\n",
        "\n",
        "    # Finding seed rectangle\n",
        "    img_contours_warped, polygons = find_ellipse_contours(img_warped_preprocessed, img_warped)\n",
        "\n",
        "\n",
        "    # Edge langth calculation.\n",
        "    seed_size = calculate_sizes(polygons)\n",
        "    sizes_mm = convert_to_mm(seed_size, img_warped)\n",
        "    img_result = write_size(polygons, sizes_mm, img_warped)\n",
        "\n",
        "    return img_result, sizes_mm"
      ],
      "metadata": {
        "id": "N_Um2Z2kZ0gO"
      },
      "execution_count": 29,
      "outputs": []
    },
    {
      "cell_type": "markdown",
      "source": [
        "# Calculate Images"
      ],
      "metadata": {
        "id": "GW7eYpKpaJUf"
      }
    },
    {
      "cell_type": "markdown",
      "source": [
        "## Make DataFrame"
      ],
      "metadata": {
        "id": "TlwXpqggusaS"
      }
    },
    {
      "cell_type": "code",
      "source": [
        "# get seed data\n",
        "file_name = 'data.xlsx'\n",
        "path = f'/content/drive/MyDrive/졸업논문/data/seed_data/{file_name}'\n",
        "data = pd.read_excel(path)\n",
        "data = data.drop('Unnamed: 0', axis = 1)"
      ],
      "metadata": {
        "id": "i3dGWtQsHqfp"
      },
      "execution_count": 14,
      "outputs": []
    },
    {
      "cell_type": "code",
      "source": [
        "data"
      ],
      "metadata": {
        "colab": {
          "base_uri": "https://localhost:8080/",
          "height": 423
        },
        "id": "iFpGV3wQurLi",
        "outputId": "acf257d6-9105-4b9b-d16d-44ab75a30c9a"
      },
      "execution_count": 15,
      "outputs": [
        {
          "output_type": "execute_result",
          "data": {
            "text/plain": [
              "     KNU            Name  Weight       long     short\n",
              "0      1            금화재래    0.17   7.976471  7.341176\n",
              "1      3        Hongkong    0.19   7.844192  7.419240\n",
              "2      6     K.L.S 901-1    0.16   8.841370  7.052203\n",
              "3      7            금강대립    0.35  11.413159  8.622245\n",
              "4      8              광교    0.21   8.058351  7.868689\n",
              "..   ...             ...     ...        ...       ...\n",
              "395  611  경상대-2007-14354    0.43   0.000000  0.000000\n",
              "396  612  경상대-2007-14477    0.17   7.905882  7.482353\n",
              "397  613  경상대-2007-14492    0.13   0.000000  0.000000\n",
              "398  614  경상대-2007-14495    0.18   8.752941  7.623529\n",
              "399  615  경상대-2007-14499    0.17   0.000000  0.000000\n",
              "\n",
              "[400 rows x 5 columns]"
            ],
            "text/html": [
              "\n",
              "  <div id=\"df-7f813dbb-493f-4297-ac22-4f9ab1fc22cc\" class=\"colab-df-container\">\n",
              "    <div>\n",
              "<style scoped>\n",
              "    .dataframe tbody tr th:only-of-type {\n",
              "        vertical-align: middle;\n",
              "    }\n",
              "\n",
              "    .dataframe tbody tr th {\n",
              "        vertical-align: top;\n",
              "    }\n",
              "\n",
              "    .dataframe thead th {\n",
              "        text-align: right;\n",
              "    }\n",
              "</style>\n",
              "<table border=\"1\" class=\"dataframe\">\n",
              "  <thead>\n",
              "    <tr style=\"text-align: right;\">\n",
              "      <th></th>\n",
              "      <th>KNU</th>\n",
              "      <th>Name</th>\n",
              "      <th>Weight</th>\n",
              "      <th>long</th>\n",
              "      <th>short</th>\n",
              "    </tr>\n",
              "  </thead>\n",
              "  <tbody>\n",
              "    <tr>\n",
              "      <th>0</th>\n",
              "      <td>1</td>\n",
              "      <td>금화재래</td>\n",
              "      <td>0.17</td>\n",
              "      <td>7.976471</td>\n",
              "      <td>7.341176</td>\n",
              "    </tr>\n",
              "    <tr>\n",
              "      <th>1</th>\n",
              "      <td>3</td>\n",
              "      <td>Hongkong</td>\n",
              "      <td>0.19</td>\n",
              "      <td>7.844192</td>\n",
              "      <td>7.419240</td>\n",
              "    </tr>\n",
              "    <tr>\n",
              "      <th>2</th>\n",
              "      <td>6</td>\n",
              "      <td>K.L.S 901-1</td>\n",
              "      <td>0.16</td>\n",
              "      <td>8.841370</td>\n",
              "      <td>7.052203</td>\n",
              "    </tr>\n",
              "    <tr>\n",
              "      <th>3</th>\n",
              "      <td>7</td>\n",
              "      <td>금강대립</td>\n",
              "      <td>0.35</td>\n",
              "      <td>11.413159</td>\n",
              "      <td>8.622245</td>\n",
              "    </tr>\n",
              "    <tr>\n",
              "      <th>4</th>\n",
              "      <td>8</td>\n",
              "      <td>광교</td>\n",
              "      <td>0.21</td>\n",
              "      <td>8.058351</td>\n",
              "      <td>7.868689</td>\n",
              "    </tr>\n",
              "    <tr>\n",
              "      <th>...</th>\n",
              "      <td>...</td>\n",
              "      <td>...</td>\n",
              "      <td>...</td>\n",
              "      <td>...</td>\n",
              "      <td>...</td>\n",
              "    </tr>\n",
              "    <tr>\n",
              "      <th>395</th>\n",
              "      <td>611</td>\n",
              "      <td>경상대-2007-14354</td>\n",
              "      <td>0.43</td>\n",
              "      <td>0.000000</td>\n",
              "      <td>0.000000</td>\n",
              "    </tr>\n",
              "    <tr>\n",
              "      <th>396</th>\n",
              "      <td>612</td>\n",
              "      <td>경상대-2007-14477</td>\n",
              "      <td>0.17</td>\n",
              "      <td>7.905882</td>\n",
              "      <td>7.482353</td>\n",
              "    </tr>\n",
              "    <tr>\n",
              "      <th>397</th>\n",
              "      <td>613</td>\n",
              "      <td>경상대-2007-14492</td>\n",
              "      <td>0.13</td>\n",
              "      <td>0.000000</td>\n",
              "      <td>0.000000</td>\n",
              "    </tr>\n",
              "    <tr>\n",
              "      <th>398</th>\n",
              "      <td>614</td>\n",
              "      <td>경상대-2007-14495</td>\n",
              "      <td>0.18</td>\n",
              "      <td>8.752941</td>\n",
              "      <td>7.623529</td>\n",
              "    </tr>\n",
              "    <tr>\n",
              "      <th>399</th>\n",
              "      <td>615</td>\n",
              "      <td>경상대-2007-14499</td>\n",
              "      <td>0.17</td>\n",
              "      <td>0.000000</td>\n",
              "      <td>0.000000</td>\n",
              "    </tr>\n",
              "  </tbody>\n",
              "</table>\n",
              "<p>400 rows × 5 columns</p>\n",
              "</div>\n",
              "    <div class=\"colab-df-buttons\">\n",
              "\n",
              "  <div class=\"colab-df-container\">\n",
              "    <button class=\"colab-df-convert\" onclick=\"convertToInteractive('df-7f813dbb-493f-4297-ac22-4f9ab1fc22cc')\"\n",
              "            title=\"Convert this dataframe to an interactive table.\"\n",
              "            style=\"display:none;\">\n",
              "\n",
              "  <svg xmlns=\"http://www.w3.org/2000/svg\" height=\"24px\" viewBox=\"0 -960 960 960\">\n",
              "    <path d=\"M120-120v-720h720v720H120Zm60-500h600v-160H180v160Zm220 220h160v-160H400v160Zm0 220h160v-160H400v160ZM180-400h160v-160H180v160Zm440 0h160v-160H620v160ZM180-180h160v-160H180v160Zm440 0h160v-160H620v160Z\"/>\n",
              "  </svg>\n",
              "    </button>\n",
              "\n",
              "  <style>\n",
              "    .colab-df-container {\n",
              "      display:flex;\n",
              "      gap: 12px;\n",
              "    }\n",
              "\n",
              "    .colab-df-convert {\n",
              "      background-color: #E8F0FE;\n",
              "      border: none;\n",
              "      border-radius: 50%;\n",
              "      cursor: pointer;\n",
              "      display: none;\n",
              "      fill: #1967D2;\n",
              "      height: 32px;\n",
              "      padding: 0 0 0 0;\n",
              "      width: 32px;\n",
              "    }\n",
              "\n",
              "    .colab-df-convert:hover {\n",
              "      background-color: #E2EBFA;\n",
              "      box-shadow: 0px 1px 2px rgba(60, 64, 67, 0.3), 0px 1px 3px 1px rgba(60, 64, 67, 0.15);\n",
              "      fill: #174EA6;\n",
              "    }\n",
              "\n",
              "    .colab-df-buttons div {\n",
              "      margin-bottom: 4px;\n",
              "    }\n",
              "\n",
              "    [theme=dark] .colab-df-convert {\n",
              "      background-color: #3B4455;\n",
              "      fill: #D2E3FC;\n",
              "    }\n",
              "\n",
              "    [theme=dark] .colab-df-convert:hover {\n",
              "      background-color: #434B5C;\n",
              "      box-shadow: 0px 1px 3px 1px rgba(0, 0, 0, 0.15);\n",
              "      filter: drop-shadow(0px 1px 2px rgba(0, 0, 0, 0.3));\n",
              "      fill: #FFFFFF;\n",
              "    }\n",
              "  </style>\n",
              "\n",
              "    <script>\n",
              "      const buttonEl =\n",
              "        document.querySelector('#df-7f813dbb-493f-4297-ac22-4f9ab1fc22cc button.colab-df-convert');\n",
              "      buttonEl.style.display =\n",
              "        google.colab.kernel.accessAllowed ? 'block' : 'none';\n",
              "\n",
              "      async function convertToInteractive(key) {\n",
              "        const element = document.querySelector('#df-7f813dbb-493f-4297-ac22-4f9ab1fc22cc');\n",
              "        const dataTable =\n",
              "          await google.colab.kernel.invokeFunction('convertToInteractive',\n",
              "                                                    [key], {});\n",
              "        if (!dataTable) return;\n",
              "\n",
              "        const docLinkHtml = 'Like what you see? Visit the ' +\n",
              "          '<a target=\"_blank\" href=https://colab.research.google.com/notebooks/data_table.ipynb>data table notebook</a>'\n",
              "          + ' to learn more about interactive tables.';\n",
              "        element.innerHTML = '';\n",
              "        dataTable['output_type'] = 'display_data';\n",
              "        await google.colab.output.renderOutput(dataTable, element);\n",
              "        const docLink = document.createElement('div');\n",
              "        docLink.innerHTML = docLinkHtml;\n",
              "        element.appendChild(docLink);\n",
              "      }\n",
              "    </script>\n",
              "  </div>\n",
              "\n",
              "\n",
              "<div id=\"df-65b8e3f1-d571-4bd7-a0c1-e2c0d74b1ca7\">\n",
              "  <button class=\"colab-df-quickchart\" onclick=\"quickchart('df-65b8e3f1-d571-4bd7-a0c1-e2c0d74b1ca7')\"\n",
              "            title=\"Suggest charts\"\n",
              "            style=\"display:none;\">\n",
              "\n",
              "<svg xmlns=\"http://www.w3.org/2000/svg\" height=\"24px\"viewBox=\"0 0 24 24\"\n",
              "     width=\"24px\">\n",
              "    <g>\n",
              "        <path d=\"M19 3H5c-1.1 0-2 .9-2 2v14c0 1.1.9 2 2 2h14c1.1 0 2-.9 2-2V5c0-1.1-.9-2-2-2zM9 17H7v-7h2v7zm4 0h-2V7h2v10zm4 0h-2v-4h2v4z\"/>\n",
              "    </g>\n",
              "</svg>\n",
              "  </button>\n",
              "\n",
              "<style>\n",
              "  .colab-df-quickchart {\n",
              "      --bg-color: #E8F0FE;\n",
              "      --fill-color: #1967D2;\n",
              "      --hover-bg-color: #E2EBFA;\n",
              "      --hover-fill-color: #174EA6;\n",
              "      --disabled-fill-color: #AAA;\n",
              "      --disabled-bg-color: #DDD;\n",
              "  }\n",
              "\n",
              "  [theme=dark] .colab-df-quickchart {\n",
              "      --bg-color: #3B4455;\n",
              "      --fill-color: #D2E3FC;\n",
              "      --hover-bg-color: #434B5C;\n",
              "      --hover-fill-color: #FFFFFF;\n",
              "      --disabled-bg-color: #3B4455;\n",
              "      --disabled-fill-color: #666;\n",
              "  }\n",
              "\n",
              "  .colab-df-quickchart {\n",
              "    background-color: var(--bg-color);\n",
              "    border: none;\n",
              "    border-radius: 50%;\n",
              "    cursor: pointer;\n",
              "    display: none;\n",
              "    fill: var(--fill-color);\n",
              "    height: 32px;\n",
              "    padding: 0;\n",
              "    width: 32px;\n",
              "  }\n",
              "\n",
              "  .colab-df-quickchart:hover {\n",
              "    background-color: var(--hover-bg-color);\n",
              "    box-shadow: 0 1px 2px rgba(60, 64, 67, 0.3), 0 1px 3px 1px rgba(60, 64, 67, 0.15);\n",
              "    fill: var(--button-hover-fill-color);\n",
              "  }\n",
              "\n",
              "  .colab-df-quickchart-complete:disabled,\n",
              "  .colab-df-quickchart-complete:disabled:hover {\n",
              "    background-color: var(--disabled-bg-color);\n",
              "    fill: var(--disabled-fill-color);\n",
              "    box-shadow: none;\n",
              "  }\n",
              "\n",
              "  .colab-df-spinner {\n",
              "    border: 2px solid var(--fill-color);\n",
              "    border-color: transparent;\n",
              "    border-bottom-color: var(--fill-color);\n",
              "    animation:\n",
              "      spin 1s steps(1) infinite;\n",
              "  }\n",
              "\n",
              "  @keyframes spin {\n",
              "    0% {\n",
              "      border-color: transparent;\n",
              "      border-bottom-color: var(--fill-color);\n",
              "      border-left-color: var(--fill-color);\n",
              "    }\n",
              "    20% {\n",
              "      border-color: transparent;\n",
              "      border-left-color: var(--fill-color);\n",
              "      border-top-color: var(--fill-color);\n",
              "    }\n",
              "    30% {\n",
              "      border-color: transparent;\n",
              "      border-left-color: var(--fill-color);\n",
              "      border-top-color: var(--fill-color);\n",
              "      border-right-color: var(--fill-color);\n",
              "    }\n",
              "    40% {\n",
              "      border-color: transparent;\n",
              "      border-right-color: var(--fill-color);\n",
              "      border-top-color: var(--fill-color);\n",
              "    }\n",
              "    60% {\n",
              "      border-color: transparent;\n",
              "      border-right-color: var(--fill-color);\n",
              "    }\n",
              "    80% {\n",
              "      border-color: transparent;\n",
              "      border-right-color: var(--fill-color);\n",
              "      border-bottom-color: var(--fill-color);\n",
              "    }\n",
              "    90% {\n",
              "      border-color: transparent;\n",
              "      border-bottom-color: var(--fill-color);\n",
              "    }\n",
              "  }\n",
              "</style>\n",
              "\n",
              "  <script>\n",
              "    async function quickchart(key) {\n",
              "      const quickchartButtonEl =\n",
              "        document.querySelector('#' + key + ' button');\n",
              "      quickchartButtonEl.disabled = true;  // To prevent multiple clicks.\n",
              "      quickchartButtonEl.classList.add('colab-df-spinner');\n",
              "      try {\n",
              "        const charts = await google.colab.kernel.invokeFunction(\n",
              "            'suggestCharts', [key], {});\n",
              "      } catch (error) {\n",
              "        console.error('Error during call to suggestCharts:', error);\n",
              "      }\n",
              "      quickchartButtonEl.classList.remove('colab-df-spinner');\n",
              "      quickchartButtonEl.classList.add('colab-df-quickchart-complete');\n",
              "    }\n",
              "    (() => {\n",
              "      let quickchartButtonEl =\n",
              "        document.querySelector('#df-65b8e3f1-d571-4bd7-a0c1-e2c0d74b1ca7 button');\n",
              "      quickchartButtonEl.style.display =\n",
              "        google.colab.kernel.accessAllowed ? 'block' : 'none';\n",
              "    })();\n",
              "  </script>\n",
              "</div>\n",
              "\n",
              "  <div id=\"id_56cda35a-e41d-4903-bcb0-69771dec702a\">\n",
              "    <style>\n",
              "      .colab-df-generate {\n",
              "        background-color: #E8F0FE;\n",
              "        border: none;\n",
              "        border-radius: 50%;\n",
              "        cursor: pointer;\n",
              "        display: none;\n",
              "        fill: #1967D2;\n",
              "        height: 32px;\n",
              "        padding: 0 0 0 0;\n",
              "        width: 32px;\n",
              "      }\n",
              "\n",
              "      .colab-df-generate:hover {\n",
              "        background-color: #E2EBFA;\n",
              "        box-shadow: 0px 1px 2px rgba(60, 64, 67, 0.3), 0px 1px 3px 1px rgba(60, 64, 67, 0.15);\n",
              "        fill: #174EA6;\n",
              "      }\n",
              "\n",
              "      [theme=dark] .colab-df-generate {\n",
              "        background-color: #3B4455;\n",
              "        fill: #D2E3FC;\n",
              "      }\n",
              "\n",
              "      [theme=dark] .colab-df-generate:hover {\n",
              "        background-color: #434B5C;\n",
              "        box-shadow: 0px 1px 3px 1px rgba(0, 0, 0, 0.15);\n",
              "        filter: drop-shadow(0px 1px 2px rgba(0, 0, 0, 0.3));\n",
              "        fill: #FFFFFF;\n",
              "      }\n",
              "    </style>\n",
              "    <button class=\"colab-df-generate\" onclick=\"generateWithVariable('data')\"\n",
              "            title=\"Generate code using this dataframe.\"\n",
              "            style=\"display:none;\">\n",
              "\n",
              "  <svg xmlns=\"http://www.w3.org/2000/svg\" height=\"24px\"viewBox=\"0 0 24 24\"\n",
              "       width=\"24px\">\n",
              "    <path d=\"M7,19H8.4L18.45,9,17,7.55,7,17.6ZM5,21V16.75L18.45,3.32a2,2,0,0,1,2.83,0l1.4,1.43a1.91,1.91,0,0,1,.58,1.4,1.91,1.91,0,0,1-.58,1.4L9.25,21ZM18.45,9,17,7.55Zm-12,3A5.31,5.31,0,0,0,4.9,8.1,5.31,5.31,0,0,0,1,6.5,5.31,5.31,0,0,0,4.9,4.9,5.31,5.31,0,0,0,6.5,1,5.31,5.31,0,0,0,8.1,4.9,5.31,5.31,0,0,0,12,6.5,5.46,5.46,0,0,0,6.5,12Z\"/>\n",
              "  </svg>\n",
              "    </button>\n",
              "    <script>\n",
              "      (() => {\n",
              "      const buttonEl =\n",
              "        document.querySelector('#id_56cda35a-e41d-4903-bcb0-69771dec702a button.colab-df-generate');\n",
              "      buttonEl.style.display =\n",
              "        google.colab.kernel.accessAllowed ? 'block' : 'none';\n",
              "\n",
              "      buttonEl.onclick = () => {\n",
              "        google.colab.notebook.generateWithVariable('data');\n",
              "      }\n",
              "      })();\n",
              "    </script>\n",
              "  </div>\n",
              "\n",
              "    </div>\n",
              "  </div>\n"
            ],
            "application/vnd.google.colaboratory.intrinsic+json": {
              "type": "dataframe",
              "variable_name": "data",
              "summary": "{\n  \"name\": \"data\",\n  \"rows\": 400,\n  \"fields\": [\n    {\n      \"column\": \"KNU\",\n      \"properties\": {\n        \"dtype\": \"number\",\n        \"std\": 179,\n        \"min\": 1,\n        \"max\": 615,\n        \"num_unique_values\": 400,\n        \"samples\": [\n          383,\n          473,\n          64\n        ],\n        \"semantic_type\": \"\",\n        \"description\": \"\"\n      }\n    },\n    {\n      \"column\": \"Name\",\n      \"properties\": {\n        \"dtype\": \"string\",\n        \"num_unique_values\": 386,\n        \"samples\": [\n          \"\\uac80\\uc740\\ucf69\",\n          \"KAS612-21\",\n          \"Mansikgeum\"\n        ],\n        \"semantic_type\": \"\",\n        \"description\": \"\"\n      }\n    },\n    {\n      \"column\": \"Weight\",\n      \"properties\": {\n        \"dtype\": \"number\",\n        \"std\": 0.09548419019105259,\n        \"min\": 0.04,\n        \"max\": 0.58,\n        \"num_unique_values\": 44,\n        \"samples\": [\n          0.06,\n          0.32,\n          0.37\n        ],\n        \"semantic_type\": \"\",\n        \"description\": \"\"\n      }\n    },\n    {\n      \"column\": \"long\",\n      \"properties\": {\n        \"dtype\": \"number\",\n        \"std\": 4.365785689790007,\n        \"min\": 0.0,\n        \"max\": 12.83798968837233,\n        \"num_unique_values\": 223,\n        \"samples\": [\n          7.552941176470588,\n          9.17056370973591,\n          5.752941176470588\n        ],\n        \"semantic_type\": \"\",\n        \"description\": \"\"\n      }\n    },\n    {\n      \"column\": \"short\",\n      \"properties\": {\n        \"dtype\": \"number\",\n        \"std\": 3.862030815822857,\n        \"min\": 0.0,\n        \"max\": 11.06739342536597,\n        \"num_unique_values\": 218,\n        \"samples\": [\n          6.014618868923309,\n          9.609338018959983,\n          7.51234278488722\n        ],\n        \"semantic_type\": \"\",\n        \"description\": \"\"\n      }\n    }\n  ]\n}"
            }
          },
          "metadata": {},
          "execution_count": 15
        }
      ]
    },
    {
      "cell_type": "code",
      "source": [
        "data.info()"
      ],
      "metadata": {
        "colab": {
          "base_uri": "https://localhost:8080/"
        },
        "id": "j9aLdFPdJfac",
        "outputId": "c8622899-0f26-4912-f2c3-eca2772d69e4"
      },
      "execution_count": 16,
      "outputs": [
        {
          "output_type": "stream",
          "name": "stdout",
          "text": [
            "<class 'pandas.core.frame.DataFrame'>\n",
            "RangeIndex: 400 entries, 0 to 399\n",
            "Data columns (total 5 columns):\n",
            " #   Column  Non-Null Count  Dtype  \n",
            "---  ------  --------------  -----  \n",
            " 0   KNU     400 non-null    int64  \n",
            " 1   Name    400 non-null    object \n",
            " 2   Weight  400 non-null    float64\n",
            " 3   long    400 non-null    float64\n",
            " 4   short   400 non-null    float64\n",
            "dtypes: float64(3), int64(1), object(1)\n",
            "memory usage: 15.8+ KB\n"
          ]
        }
      ]
    },
    {
      "cell_type": "code",
      "source": [
        "data.describe()"
      ],
      "metadata": {
        "colab": {
          "base_uri": "https://localhost:8080/",
          "height": 300
        },
        "id": "rJvwfRGrKQfv",
        "outputId": "b09a06ec-5bad-4e5c-c168-5058f49bdc08"
      },
      "execution_count": 17,
      "outputs": [
        {
          "output_type": "execute_result",
          "data": {
            "text/plain": [
              "              KNU      Weight        long       short\n",
              "count  400.000000  400.000000  400.000000  400.000000\n",
              "mean   339.250000    0.204750    4.924014    4.358804\n",
              "std    179.420405    0.095484    4.365786    3.862031\n",
              "min      1.000000    0.040000    0.000000    0.000000\n",
              "25%    184.750000    0.140000    0.000000    0.000000\n",
              "50%    372.500000    0.190000    6.811765    6.154643\n",
              "75%    497.250000    0.250000    8.788395    7.722920\n",
              "max    615.000000    0.580000   12.837990   11.067393"
            ],
            "text/html": [
              "\n",
              "  <div id=\"df-622cd2b6-5ca9-4a1a-b04a-6733be1b7ee9\" class=\"colab-df-container\">\n",
              "    <div>\n",
              "<style scoped>\n",
              "    .dataframe tbody tr th:only-of-type {\n",
              "        vertical-align: middle;\n",
              "    }\n",
              "\n",
              "    .dataframe tbody tr th {\n",
              "        vertical-align: top;\n",
              "    }\n",
              "\n",
              "    .dataframe thead th {\n",
              "        text-align: right;\n",
              "    }\n",
              "</style>\n",
              "<table border=\"1\" class=\"dataframe\">\n",
              "  <thead>\n",
              "    <tr style=\"text-align: right;\">\n",
              "      <th></th>\n",
              "      <th>KNU</th>\n",
              "      <th>Weight</th>\n",
              "      <th>long</th>\n",
              "      <th>short</th>\n",
              "    </tr>\n",
              "  </thead>\n",
              "  <tbody>\n",
              "    <tr>\n",
              "      <th>count</th>\n",
              "      <td>400.000000</td>\n",
              "      <td>400.000000</td>\n",
              "      <td>400.000000</td>\n",
              "      <td>400.000000</td>\n",
              "    </tr>\n",
              "    <tr>\n",
              "      <th>mean</th>\n",
              "      <td>339.250000</td>\n",
              "      <td>0.204750</td>\n",
              "      <td>4.924014</td>\n",
              "      <td>4.358804</td>\n",
              "    </tr>\n",
              "    <tr>\n",
              "      <th>std</th>\n",
              "      <td>179.420405</td>\n",
              "      <td>0.095484</td>\n",
              "      <td>4.365786</td>\n",
              "      <td>3.862031</td>\n",
              "    </tr>\n",
              "    <tr>\n",
              "      <th>min</th>\n",
              "      <td>1.000000</td>\n",
              "      <td>0.040000</td>\n",
              "      <td>0.000000</td>\n",
              "      <td>0.000000</td>\n",
              "    </tr>\n",
              "    <tr>\n",
              "      <th>25%</th>\n",
              "      <td>184.750000</td>\n",
              "      <td>0.140000</td>\n",
              "      <td>0.000000</td>\n",
              "      <td>0.000000</td>\n",
              "    </tr>\n",
              "    <tr>\n",
              "      <th>50%</th>\n",
              "      <td>372.500000</td>\n",
              "      <td>0.190000</td>\n",
              "      <td>6.811765</td>\n",
              "      <td>6.154643</td>\n",
              "    </tr>\n",
              "    <tr>\n",
              "      <th>75%</th>\n",
              "      <td>497.250000</td>\n",
              "      <td>0.250000</td>\n",
              "      <td>8.788395</td>\n",
              "      <td>7.722920</td>\n",
              "    </tr>\n",
              "    <tr>\n",
              "      <th>max</th>\n",
              "      <td>615.000000</td>\n",
              "      <td>0.580000</td>\n",
              "      <td>12.837990</td>\n",
              "      <td>11.067393</td>\n",
              "    </tr>\n",
              "  </tbody>\n",
              "</table>\n",
              "</div>\n",
              "    <div class=\"colab-df-buttons\">\n",
              "\n",
              "  <div class=\"colab-df-container\">\n",
              "    <button class=\"colab-df-convert\" onclick=\"convertToInteractive('df-622cd2b6-5ca9-4a1a-b04a-6733be1b7ee9')\"\n",
              "            title=\"Convert this dataframe to an interactive table.\"\n",
              "            style=\"display:none;\">\n",
              "\n",
              "  <svg xmlns=\"http://www.w3.org/2000/svg\" height=\"24px\" viewBox=\"0 -960 960 960\">\n",
              "    <path d=\"M120-120v-720h720v720H120Zm60-500h600v-160H180v160Zm220 220h160v-160H400v160Zm0 220h160v-160H400v160ZM180-400h160v-160H180v160Zm440 0h160v-160H620v160ZM180-180h160v-160H180v160Zm440 0h160v-160H620v160Z\"/>\n",
              "  </svg>\n",
              "    </button>\n",
              "\n",
              "  <style>\n",
              "    .colab-df-container {\n",
              "      display:flex;\n",
              "      gap: 12px;\n",
              "    }\n",
              "\n",
              "    .colab-df-convert {\n",
              "      background-color: #E8F0FE;\n",
              "      border: none;\n",
              "      border-radius: 50%;\n",
              "      cursor: pointer;\n",
              "      display: none;\n",
              "      fill: #1967D2;\n",
              "      height: 32px;\n",
              "      padding: 0 0 0 0;\n",
              "      width: 32px;\n",
              "    }\n",
              "\n",
              "    .colab-df-convert:hover {\n",
              "      background-color: #E2EBFA;\n",
              "      box-shadow: 0px 1px 2px rgba(60, 64, 67, 0.3), 0px 1px 3px 1px rgba(60, 64, 67, 0.15);\n",
              "      fill: #174EA6;\n",
              "    }\n",
              "\n",
              "    .colab-df-buttons div {\n",
              "      margin-bottom: 4px;\n",
              "    }\n",
              "\n",
              "    [theme=dark] .colab-df-convert {\n",
              "      background-color: #3B4455;\n",
              "      fill: #D2E3FC;\n",
              "    }\n",
              "\n",
              "    [theme=dark] .colab-df-convert:hover {\n",
              "      background-color: #434B5C;\n",
              "      box-shadow: 0px 1px 3px 1px rgba(0, 0, 0, 0.15);\n",
              "      filter: drop-shadow(0px 1px 2px rgba(0, 0, 0, 0.3));\n",
              "      fill: #FFFFFF;\n",
              "    }\n",
              "  </style>\n",
              "\n",
              "    <script>\n",
              "      const buttonEl =\n",
              "        document.querySelector('#df-622cd2b6-5ca9-4a1a-b04a-6733be1b7ee9 button.colab-df-convert');\n",
              "      buttonEl.style.display =\n",
              "        google.colab.kernel.accessAllowed ? 'block' : 'none';\n",
              "\n",
              "      async function convertToInteractive(key) {\n",
              "        const element = document.querySelector('#df-622cd2b6-5ca9-4a1a-b04a-6733be1b7ee9');\n",
              "        const dataTable =\n",
              "          await google.colab.kernel.invokeFunction('convertToInteractive',\n",
              "                                                    [key], {});\n",
              "        if (!dataTable) return;\n",
              "\n",
              "        const docLinkHtml = 'Like what you see? Visit the ' +\n",
              "          '<a target=\"_blank\" href=https://colab.research.google.com/notebooks/data_table.ipynb>data table notebook</a>'\n",
              "          + ' to learn more about interactive tables.';\n",
              "        element.innerHTML = '';\n",
              "        dataTable['output_type'] = 'display_data';\n",
              "        await google.colab.output.renderOutput(dataTable, element);\n",
              "        const docLink = document.createElement('div');\n",
              "        docLink.innerHTML = docLinkHtml;\n",
              "        element.appendChild(docLink);\n",
              "      }\n",
              "    </script>\n",
              "  </div>\n",
              "\n",
              "\n",
              "<div id=\"df-1c50c3b1-c740-4436-a6f1-3067b632d35a\">\n",
              "  <button class=\"colab-df-quickchart\" onclick=\"quickchart('df-1c50c3b1-c740-4436-a6f1-3067b632d35a')\"\n",
              "            title=\"Suggest charts\"\n",
              "            style=\"display:none;\">\n",
              "\n",
              "<svg xmlns=\"http://www.w3.org/2000/svg\" height=\"24px\"viewBox=\"0 0 24 24\"\n",
              "     width=\"24px\">\n",
              "    <g>\n",
              "        <path d=\"M19 3H5c-1.1 0-2 .9-2 2v14c0 1.1.9 2 2 2h14c1.1 0 2-.9 2-2V5c0-1.1-.9-2-2-2zM9 17H7v-7h2v7zm4 0h-2V7h2v10zm4 0h-2v-4h2v4z\"/>\n",
              "    </g>\n",
              "</svg>\n",
              "  </button>\n",
              "\n",
              "<style>\n",
              "  .colab-df-quickchart {\n",
              "      --bg-color: #E8F0FE;\n",
              "      --fill-color: #1967D2;\n",
              "      --hover-bg-color: #E2EBFA;\n",
              "      --hover-fill-color: #174EA6;\n",
              "      --disabled-fill-color: #AAA;\n",
              "      --disabled-bg-color: #DDD;\n",
              "  }\n",
              "\n",
              "  [theme=dark] .colab-df-quickchart {\n",
              "      --bg-color: #3B4455;\n",
              "      --fill-color: #D2E3FC;\n",
              "      --hover-bg-color: #434B5C;\n",
              "      --hover-fill-color: #FFFFFF;\n",
              "      --disabled-bg-color: #3B4455;\n",
              "      --disabled-fill-color: #666;\n",
              "  }\n",
              "\n",
              "  .colab-df-quickchart {\n",
              "    background-color: var(--bg-color);\n",
              "    border: none;\n",
              "    border-radius: 50%;\n",
              "    cursor: pointer;\n",
              "    display: none;\n",
              "    fill: var(--fill-color);\n",
              "    height: 32px;\n",
              "    padding: 0;\n",
              "    width: 32px;\n",
              "  }\n",
              "\n",
              "  .colab-df-quickchart:hover {\n",
              "    background-color: var(--hover-bg-color);\n",
              "    box-shadow: 0 1px 2px rgba(60, 64, 67, 0.3), 0 1px 3px 1px rgba(60, 64, 67, 0.15);\n",
              "    fill: var(--button-hover-fill-color);\n",
              "  }\n",
              "\n",
              "  .colab-df-quickchart-complete:disabled,\n",
              "  .colab-df-quickchart-complete:disabled:hover {\n",
              "    background-color: var(--disabled-bg-color);\n",
              "    fill: var(--disabled-fill-color);\n",
              "    box-shadow: none;\n",
              "  }\n",
              "\n",
              "  .colab-df-spinner {\n",
              "    border: 2px solid var(--fill-color);\n",
              "    border-color: transparent;\n",
              "    border-bottom-color: var(--fill-color);\n",
              "    animation:\n",
              "      spin 1s steps(1) infinite;\n",
              "  }\n",
              "\n",
              "  @keyframes spin {\n",
              "    0% {\n",
              "      border-color: transparent;\n",
              "      border-bottom-color: var(--fill-color);\n",
              "      border-left-color: var(--fill-color);\n",
              "    }\n",
              "    20% {\n",
              "      border-color: transparent;\n",
              "      border-left-color: var(--fill-color);\n",
              "      border-top-color: var(--fill-color);\n",
              "    }\n",
              "    30% {\n",
              "      border-color: transparent;\n",
              "      border-left-color: var(--fill-color);\n",
              "      border-top-color: var(--fill-color);\n",
              "      border-right-color: var(--fill-color);\n",
              "    }\n",
              "    40% {\n",
              "      border-color: transparent;\n",
              "      border-right-color: var(--fill-color);\n",
              "      border-top-color: var(--fill-color);\n",
              "    }\n",
              "    60% {\n",
              "      border-color: transparent;\n",
              "      border-right-color: var(--fill-color);\n",
              "    }\n",
              "    80% {\n",
              "      border-color: transparent;\n",
              "      border-right-color: var(--fill-color);\n",
              "      border-bottom-color: var(--fill-color);\n",
              "    }\n",
              "    90% {\n",
              "      border-color: transparent;\n",
              "      border-bottom-color: var(--fill-color);\n",
              "    }\n",
              "  }\n",
              "</style>\n",
              "\n",
              "  <script>\n",
              "    async function quickchart(key) {\n",
              "      const quickchartButtonEl =\n",
              "        document.querySelector('#' + key + ' button');\n",
              "      quickchartButtonEl.disabled = true;  // To prevent multiple clicks.\n",
              "      quickchartButtonEl.classList.add('colab-df-spinner');\n",
              "      try {\n",
              "        const charts = await google.colab.kernel.invokeFunction(\n",
              "            'suggestCharts', [key], {});\n",
              "      } catch (error) {\n",
              "        console.error('Error during call to suggestCharts:', error);\n",
              "      }\n",
              "      quickchartButtonEl.classList.remove('colab-df-spinner');\n",
              "      quickchartButtonEl.classList.add('colab-df-quickchart-complete');\n",
              "    }\n",
              "    (() => {\n",
              "      let quickchartButtonEl =\n",
              "        document.querySelector('#df-1c50c3b1-c740-4436-a6f1-3067b632d35a button');\n",
              "      quickchartButtonEl.style.display =\n",
              "        google.colab.kernel.accessAllowed ? 'block' : 'none';\n",
              "    })();\n",
              "  </script>\n",
              "</div>\n",
              "\n",
              "    </div>\n",
              "  </div>\n"
            ],
            "application/vnd.google.colaboratory.intrinsic+json": {
              "type": "dataframe",
              "summary": "{\n  \"name\": \"data\",\n  \"rows\": 8,\n  \"fields\": [\n    {\n      \"column\": \"KNU\",\n      \"properties\": {\n        \"dtype\": \"number\",\n        \"std\": 195.55021130330258,\n        \"min\": 1.0,\n        \"max\": 615.0,\n        \"num_unique_values\": 8,\n        \"samples\": [\n          339.25,\n          372.5,\n          400.0\n        ],\n        \"semantic_type\": \"\",\n        \"description\": \"\"\n      }\n    },\n    {\n      \"column\": \"Weight\",\n      \"properties\": {\n        \"dtype\": \"number\",\n        \"std\": 141.34567681647198,\n        \"min\": 0.04,\n        \"max\": 400.0,\n        \"num_unique_values\": 8,\n        \"samples\": [\n          0.20475000000000002,\n          0.19,\n          400.0\n        ],\n        \"semantic_type\": \"\",\n        \"description\": \"\"\n      }\n    },\n    {\n      \"column\": \"long\",\n      \"properties\": {\n        \"dtype\": \"number\",\n        \"std\": 139.58153602349856,\n        \"min\": 0.0,\n        \"max\": 400.0,\n        \"num_unique_values\": 7,\n        \"samples\": [\n          400.0,\n          4.924013587837179,\n          8.788394749706166\n        ],\n        \"semantic_type\": \"\",\n        \"description\": \"\"\n      }\n    },\n    {\n      \"column\": \"short\",\n      \"properties\": {\n        \"dtype\": \"number\",\n        \"std\": 139.7956924881435,\n        \"min\": 0.0,\n        \"max\": 400.0,\n        \"num_unique_values\": 7,\n        \"samples\": [\n          400.0,\n          4.358804194129366,\n          7.722919607396353\n        ],\n        \"semantic_type\": \"\",\n        \"description\": \"\"\n      }\n    }\n  ]\n}"
            }
          },
          "metadata": {},
          "execution_count": 17
        }
      ]
    },
    {
      "cell_type": "markdown",
      "source": [
        "## Get Image lists"
      ],
      "metadata": {
        "id": "maZZTIvtuII7"
      }
    },
    {
      "cell_type": "code",
      "source": [
        "path = f'/content/drive/MyDrive/졸업논문/data/fail_image/'\n",
        "file_lists = os.listdir(path)\n",
        "file_lists.sort()\n",
        "if len(data[data.long == 0].KNU) == len(file_lists):\n",
        "    print('Correct')"
      ],
      "metadata": {
        "colab": {
          "base_uri": "https://localhost:8080/"
        },
        "id": "FILL2UNV1fIv",
        "outputId": "636691a0-bf67-4574-ec34-ddb88a72e781"
      },
      "execution_count": 18,
      "outputs": [
        {
          "output_type": "stream",
          "name": "stdout",
          "text": [
            "Correct\n"
          ]
        }
      ]
    },
    {
      "cell_type": "code",
      "source": [
        "# 이미지 labeling\n",
        "\n",
        "for label, file_name in tqdm(zip(data[data.long == 0].KNU.values, file_lists)):\n",
        "    path = f'/content/drive/MyDrive/졸업논문/data'\n",
        "    shutil.copyfile(f'{path}/fail_image/{file_name}', f'{path}/origin_image_sort/KNU_{label}.jpeg')"
      ],
      "metadata": {
        "colab": {
          "base_uri": "https://localhost:8080/"
        },
        "id": "WkYHw6DyCrUt",
        "outputId": "7223c76f-8793-4370-db12-fcad4f01d005"
      },
      "execution_count": 184,
      "outputs": [
        {
          "output_type": "stream",
          "name": "stderr",
          "text": [
            "168it [00:11, 14.52it/s]\n"
          ]
        }
      ]
    },
    {
      "cell_type": "code",
      "source": [
        "path = f'/content/drive/MyDrive/졸업논문/data/origin_image_sort/'\n",
        "file_lists = os.listdir(path)\n",
        "if len(data.KNU) == len(file_lists):\n",
        "    print('Correct')"
      ],
      "metadata": {
        "colab": {
          "base_uri": "https://localhost:8080/"
        },
        "id": "0OcFCFjENl7a",
        "outputId": "af38caa8-03c7-46a3-b81f-acfbf5439c09"
      },
      "execution_count": 20,
      "outputs": [
        {
          "output_type": "stream",
          "name": "stdout",
          "text": [
            "Correct\n"
          ]
        }
      ]
    },
    {
      "cell_type": "markdown",
      "source": [
        "## Calculate\n"
      ],
      "metadata": {
        "id": "pnSbkpEluKti"
      }
    },
    {
      "cell_type": "code",
      "source": [
        "fail_ary = []\n",
        "correct_cnt = 0\n",
        "fail_cnt = 0\n",
        "for file_name in tqdm(file_lists):\n",
        "    path = f'/content/drive/MyDrive/졸업논문/data'\n",
        "    label = re.findall(r'\\d+', file_name)\n",
        "    사이즈 측정된 이미지와 사이즈 받기\n",
        "    try :\n",
        "        cal_image, sizes = measure_size(f'{path}/origin_image_sort/{file_name}', paper_eps_param = 0.08) # 작을 수록 많은 값을 코너를 탐지\n",
        "        size_long = max(sizes[0][0], sizes[1][0])\n",
        "        size_short = min(sizes[0][0], sizes[1][0])\n",
        "        idx = data[data.KNU == label].index\n",
        "\n",
        "        data.loc[idx, 'long'] = size_long\n",
        "        data.loc[idx, 'short'] = size_short\n",
        "        cv2.imwrite(f'{path}/calc_image/{file_name}', cal_image)\n",
        "\n",
        "        correct_cnt += 1\n",
        "    except:\n",
        "        fail_cnt += 1\n",
        "        fail_ary.append(file_name)\n",
        "print(correct_cnt, fail_cnt)"
      ],
      "metadata": {
        "colab": {
          "base_uri": "https://localhost:8080/"
        },
        "id": "hHriIJugaIX4",
        "outputId": "db39b1c8-dab0-436c-e880-faca378b5cff"
      },
      "execution_count": 22,
      "outputs": [
        {
          "output_type": "stream",
          "name": "stderr",
          "text": [
            "100%|██████████| 168/168 [01:16<00:00,  2.20it/s]"
          ]
        },
        {
          "output_type": "stream",
          "name": "stdout",
          "text": [
            "58 110\n"
          ]
        },
        {
          "output_type": "stream",
          "name": "stderr",
          "text": [
            "\n"
          ]
        }
      ]
    },
    {
      "cell_type": "markdown",
      "source": [
        "## Save Data"
      ],
      "metadata": {
        "id": "zVntsSA4uVHT"
      }
    },
    {
      "cell_type": "code",
      "source": [
        "path = f'/content/drive/MyDrive/졸업논문/data/seed_data/'\n",
        "data.to_excel(excel_writer=path+'data.xlsx')"
      ],
      "metadata": {
        "id": "ABSQVQ-JSZM_"
      },
      "execution_count": 25,
      "outputs": []
    }
  ]
}